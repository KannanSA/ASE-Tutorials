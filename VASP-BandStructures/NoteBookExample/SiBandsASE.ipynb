{
 "cells": [
  {
   "cell_type": "markdown",
   "metadata": {},
   "source": [
    "## VASP band structure calculator\n",
    "\n",
    "Anyone who's ever had to calculate a hybrid-functional band structure in VASP knows that it is an incrediably fiddly procedure, anyone who hasn't should be happy. The routine involves performing an initial calculation at GGA level, generating $k$-points and then pasting special points with zero weighting to a new KPOINTS file for the hybrid calculation.\n",
    "\n",
    "The VASP version of the procedure is outlined [here](http://cms.mpi.univie.ac.at/wiki/index.php/Si_bandstructure). In this example we have more-or-less automated the procedure in ASE. \n",
    "\n",
    "The kpoints module of ASE contains special points for common [lattice types](https://wiki.fysik.dtu.dk/ase/epydoc/ase.dft.kpoints-module.html#high_symm_path). NB I had to add in monoclinic to my version. It also contains information on the high symmetry paths through the respective Brillouin zones. In this tutorial we will make use of these features.\n",
    "\n",
    "## Setting up VASP to work with ASE\n",
    "\n",
    "To do this you need to set two environment variables; the VASP executable command and the path to the VASP pseudopotentials.\n",
    "\n",
    "The setup is described [on the ASE site.](https://wiki.fysik.dtu.dk/ase/ase/calculators/vasp.html) Although I have personally found more success by setting the executable variable using \n",
    "\n",
    "* export VASP_COMMAND=\"vasp\""
   ]
  },
  {
   "cell_type": "code",
   "execution_count": 1,
   "metadata": {
    "collapsed": true
   },
   "outputs": [],
   "source": [
    "%matplotlib inline\n",
    "from ase.dft.kpoints import *\n",
    "import numpy as np\n",
    "import os\n",
    "from ase.calculators.vasp import Vasp\n",
    "from ase.spacegroup import crystal\n",
    "import matplotlib.pyplot as plt\n",
    "from ase.dft.bandgap import get_band_gap"
   ]
  },
  {
   "cell_type": "markdown",
   "metadata": {},
   "source": [
    "## Primitive cell maker\n",
    "Below is a quick function to build a primitive cell Atoms object from a conventional cell Atoms object. Well, you wouldn't want to waste CPU time, would you?"
   ]
  },
  {
   "cell_type": "code",
   "execution_count": 2,
   "metadata": {
    "collapsed": true
   },
   "outputs": [],
   "source": [
    "def primitive_from_conventional_cell(atoms, spacegroup=1, setting=1):\n",
    "    \"\"\"Returns primitive cell given an Atoms object for a conventional\n",
    "    cell and it's spacegroup.\"\"\"\n",
    "    from ase.lattice.spacegroup import Spacegroup\n",
    "    from ase.utils.geometry  import cut\n",
    "    sg = Spacegroup(spacegroup, setting)\n",
    "    prim_cell = sg.scaled_primitive_cell  # Check if we need to transpose\n",
    "    return cut(atoms, a=prim_cell[0], b=prim_cell[1], c=prim_cell[2])"
   ]
  },
  {
   "cell_type": "code",
   "execution_count": 3,
   "metadata": {
    "collapsed": false
   },
   "outputs": [
    {
     "ename": "ModuleNotFoundError",
     "evalue": "No module named 'ase.lattice.spacegroup'",
     "output_type": "error",
     "traceback": [
      "\u001b[0;31m---------------------------------------------------------------------------\u001b[0m",
      "\u001b[0;31mModuleNotFoundError\u001b[0m                       Traceback (most recent call last)",
      "Cell \u001b[0;32mIn[3], line 4\u001b[0m\n\u001b[1;32m      2\u001b[0m a \u001b[38;5;241m=\u001b[39m \u001b[38;5;241m5.459\u001b[39m\n\u001b[1;32m      3\u001b[0m si \u001b[38;5;241m=\u001b[39m crystal(\u001b[38;5;124m'\u001b[39m\u001b[38;5;124mSi\u001b[39m\u001b[38;5;124m'\u001b[39m, [(\u001b[38;5;241m0\u001b[39m,\u001b[38;5;241m0\u001b[39m,\u001b[38;5;241m0\u001b[39m)], spacegroup\u001b[38;5;241m=\u001b[39m\u001b[38;5;241m227\u001b[39m, cellpar\u001b[38;5;241m=\u001b[39m[a, a, a, \u001b[38;5;241m90\u001b[39m, \u001b[38;5;241m90\u001b[39m, \u001b[38;5;241m90\u001b[39m])\n\u001b[0;32m----> 4\u001b[0m si \u001b[38;5;241m=\u001b[39m \u001b[43mprimitive_from_conventional_cell\u001b[49m\u001b[43m(\u001b[49m\u001b[43msi\u001b[49m\u001b[43m,\u001b[49m\u001b[43mspacegroup\u001b[49m\u001b[38;5;241;43m=\u001b[39;49m\u001b[38;5;241;43m227\u001b[39;49m\u001b[43m,\u001b[49m\u001b[43m \u001b[49m\u001b[43msetting\u001b[49m\u001b[38;5;241;43m=\u001b[39;49m\u001b[38;5;241;43m1\u001b[39;49m\u001b[43m)\u001b[49m\n",
      "Cell \u001b[0;32mIn[2], line 4\u001b[0m, in \u001b[0;36mprimitive_from_conventional_cell\u001b[0;34m(atoms, spacegroup, setting)\u001b[0m\n\u001b[1;32m      1\u001b[0m \u001b[38;5;28;01mdef\u001b[39;00m\u001b[38;5;250m \u001b[39m\u001b[38;5;21mprimitive_from_conventional_cell\u001b[39m(atoms, spacegroup\u001b[38;5;241m=\u001b[39m\u001b[38;5;241m1\u001b[39m, setting\u001b[38;5;241m=\u001b[39m\u001b[38;5;241m1\u001b[39m):\n\u001b[1;32m      2\u001b[0m \u001b[38;5;250m    \u001b[39m\u001b[38;5;124;03m\"\"\"Returns primitive cell given an Atoms object for a conventional\u001b[39;00m\n\u001b[1;32m      3\u001b[0m \u001b[38;5;124;03m    cell and it's spacegroup.\"\"\"\u001b[39;00m\n\u001b[0;32m----> 4\u001b[0m     \u001b[38;5;28;01mfrom\u001b[39;00m\u001b[38;5;250m \u001b[39m\u001b[38;5;21;01mase\u001b[39;00m\u001b[38;5;21;01m.\u001b[39;00m\u001b[38;5;21;01mlattice\u001b[39;00m\u001b[38;5;21;01m.\u001b[39;00m\u001b[38;5;21;01mspacegroup\u001b[39;00m\u001b[38;5;250m \u001b[39m\u001b[38;5;28;01mimport\u001b[39;00m Spacegroup\n\u001b[1;32m      5\u001b[0m     \u001b[38;5;28;01mfrom\u001b[39;00m\u001b[38;5;250m \u001b[39m\u001b[38;5;21;01mase\u001b[39;00m\u001b[38;5;21;01m.\u001b[39;00m\u001b[38;5;21;01mutils\u001b[39;00m\u001b[38;5;21;01m.\u001b[39;00m\u001b[38;5;21;01mgeometry\u001b[39;00m\u001b[38;5;250m  \u001b[39m\u001b[38;5;28;01mimport\u001b[39;00m cut\n\u001b[1;32m      6\u001b[0m     sg \u001b[38;5;241m=\u001b[39m Spacegroup(spacegroup, setting)\n",
      "\u001b[0;31mModuleNotFoundError\u001b[0m: No module named 'ase.lattice.spacegroup'"
     ]
    }
   ],
   "source": [
    "# Set up the system (Si)\n",
    "a = 5.459\n",
    "si = crystal('Si', [(0,0,0)], spacegroup=227, cellpar=[a, a, a, 90, 90, 90])\n",
    "si = primitive_from_conventional_cell(si,spacegroup=227, setting=1)"
   ]
  },
  {
   "cell_type": "code",
   "execution_count": 4,
   "metadata": {
    "collapsed": false
   },
   "outputs": [
    {
     "ename": "NameError",
     "evalue": "name 'high_symm_path' is not defined",
     "output_type": "error",
     "traceback": [
      "\u001b[0;31m---------------------------------------------------------------------------\u001b[0m",
      "\u001b[0;31mNameError\u001b[0m                                 Traceback (most recent call last)",
      "Cell \u001b[0;32mIn[4], line 2\u001b[0m\n\u001b[1;32m      1\u001b[0m \u001b[38;5;66;03m# Set up the sampling path\u001b[39;00m\n\u001b[0;32m----> 2\u001b[0m path \u001b[38;5;241m=\u001b[39m \u001b[43mhigh_symm_path\u001b[49m[\u001b[38;5;124m'\u001b[39m\u001b[38;5;124mfcc\u001b[39m\u001b[38;5;124m'\u001b[39m]\n\u001b[1;32m      3\u001b[0m points \u001b[38;5;241m=\u001b[39m get_special_points(\u001b[38;5;124m'\u001b[39m\u001b[38;5;124mfcc\u001b[39m\u001b[38;5;124m'\u001b[39m)\n\u001b[1;32m      4\u001b[0m point_coords \u001b[38;5;241m=\u001b[39m []\n",
      "\u001b[0;31mNameError\u001b[0m: name 'high_symm_path' is not defined"
     ]
    }
   ],
   "source": [
    "# Set up the sampling path\n",
    "path = high_symm_path['fcc']\n",
    "points = get_special_points('fcc')\n",
    "point_coords = []\n",
    "for point in path:\n",
    "    point_coords.append(points[point])\n",
    "kpts, x, X = get_bandpath(point_coords,si.cell,100)"
   ]
  },
  {
   "cell_type": "markdown",
   "metadata": {},
   "source": [
    "**NOTE** the sampling paths can be overly exhaustive and you may want to define reduced paths yourself, as in the example folders in this directory.\n",
    "\n",
    "## The First VASP calculation\n",
    "\n",
    "This is a single point calculation. Performed at GGA level, it generates the $k$-point mesh for 4x4x4 sampling."
   ]
  },
  {
   "cell_type": "code",
   "execution_count": 5,
   "metadata": {
    "collapsed": false
   },
   "outputs": [
    {
     "name": "stderr",
     "output_type": "stream",
     "text": [
      "/var/folders/b_/144k224j6j32hy12_38n1l4w0000gn/T/ipykernel_20262/2968057192.py:8: FutureWarning: Please use atoms.calc = calc\n",
      "  si.set_calculator(calc_single)\n"
     ]
    },
    {
     "ename": "CalculatorSetupError",
     "evalue": "Please set either command in calculator or one of the following environment variables (prioritized as follows): ASE_VASP_COMMAND, VASP_COMMAND, VASP_SCRIPT",
     "output_type": "error",
     "traceback": [
      "\u001b[0;31m---------------------------------------------------------------------------\u001b[0m",
      "\u001b[0;31mCalculatorSetupError\u001b[0m                      Traceback (most recent call last)",
      "Cell \u001b[0;32mIn[5], line 9\u001b[0m\n\u001b[1;32m      1\u001b[0m calc_single \u001b[38;5;241m=\u001b[39m Vasp(system \u001b[38;5;241m=\u001b[39m \u001b[38;5;124m\"\u001b[39m\u001b[38;5;124mGeneric System Name\u001b[39m\u001b[38;5;124m\"\u001b[39m,\n\u001b[1;32m      2\u001b[0m                istart \u001b[38;5;241m=\u001b[39m \u001b[38;5;241m0\u001b[39m,iniwav \u001b[38;5;241m=\u001b[39m \u001b[38;5;241m1\u001b[39m,icharg \u001b[38;5;241m=\u001b[39m \u001b[38;5;241m0\u001b[39m,gamma\u001b[38;5;241m=\u001b[39m\u001b[38;5;28;01mTrue\u001b[39;00m,reciprocal\u001b[38;5;241m=\u001b[39m\u001b[38;5;28;01mTrue\u001b[39;00m,\n\u001b[1;32m      3\u001b[0m                prec\u001b[38;5;241m=\u001b[39m\u001b[38;5;124m\"\u001b[39m\u001b[38;5;124mAccurate\u001b[39m\u001b[38;5;124m\"\u001b[39m, lreal \u001b[38;5;241m=\u001b[39m \u001b[38;5;28;01mFalse\u001b[39;00m, algo \u001b[38;5;241m=\u001b[39m \u001b[38;5;124m\"\u001b[39m\u001b[38;5;124mNormal\u001b[39m\u001b[38;5;124m\"\u001b[39m, encut \u001b[38;5;241m=\u001b[39m \u001b[38;5;241m300.00\u001b[39m,\n\u001b[1;32m      4\u001b[0m                nelm \u001b[38;5;241m=\u001b[39m \u001b[38;5;241m200\u001b[39m, ediff \u001b[38;5;241m=\u001b[39m \u001b[38;5;241m1e-6\u001b[39m, gga \u001b[38;5;241m=\u001b[39m \u001b[38;5;124m\"\u001b[39m\u001b[38;5;124mPS\u001b[39m\u001b[38;5;124m\"\u001b[39m,kpts\u001b[38;5;241m=\u001b[39m(\u001b[38;5;241m4\u001b[39m,\u001b[38;5;241m4\u001b[39m,\u001b[38;5;241m4\u001b[39m),\n\u001b[1;32m      5\u001b[0m                ediffg \u001b[38;5;241m=\u001b[39m \u001b[38;5;241m1e-3\u001b[39m, nsw \u001b[38;5;241m=\u001b[39m \u001b[38;5;241m0\u001b[39m, ibrion \u001b[38;5;241m=\u001b[39m \u001b[38;5;241m1\u001b[39m, isif \u001b[38;5;241m=\u001b[39m \u001b[38;5;241m3\u001b[39m, isym \u001b[38;5;241m=\u001b[39m \u001b[38;5;241m2\u001b[39m,\n\u001b[1;32m      6\u001b[0m                ismear \u001b[38;5;241m=\u001b[39m \u001b[38;5;241m-\u001b[39m\u001b[38;5;241m5\u001b[39m)\n\u001b[1;32m      8\u001b[0m si\u001b[38;5;241m.\u001b[39mset_calculator(calc_single)\n\u001b[0;32m----> 9\u001b[0m energy \u001b[38;5;241m=\u001b[39m \u001b[43msi\u001b[49m\u001b[38;5;241;43m.\u001b[39;49m\u001b[43mget_potential_energy\u001b[49m\u001b[43m(\u001b[49m\u001b[43m)\u001b[49m\n",
      "File \u001b[0;32m~/opt/anaconda3/envs/research/lib/python3.9/site-packages/ase/atoms.py:772\u001b[0m, in \u001b[0;36mAtoms.get_potential_energy\u001b[0;34m(self, force_consistent, apply_constraint)\u001b[0m\n\u001b[1;32m    769\u001b[0m     energy \u001b[38;5;241m=\u001b[39m \u001b[38;5;28mself\u001b[39m\u001b[38;5;241m.\u001b[39m_calc\u001b[38;5;241m.\u001b[39mget_potential_energy(\n\u001b[1;32m    770\u001b[0m         \u001b[38;5;28mself\u001b[39m, force_consistent\u001b[38;5;241m=\u001b[39mforce_consistent)\n\u001b[1;32m    771\u001b[0m \u001b[38;5;28;01melse\u001b[39;00m:\n\u001b[0;32m--> 772\u001b[0m     energy \u001b[38;5;241m=\u001b[39m \u001b[38;5;28;43mself\u001b[39;49m\u001b[38;5;241;43m.\u001b[39;49m\u001b[43m_calc\u001b[49m\u001b[38;5;241;43m.\u001b[39;49m\u001b[43mget_potential_energy\u001b[49m\u001b[43m(\u001b[49m\u001b[38;5;28;43mself\u001b[39;49m\u001b[43m)\u001b[49m\n\u001b[1;32m    773\u001b[0m \u001b[38;5;28;01mif\u001b[39;00m apply_constraint:\n\u001b[1;32m    774\u001b[0m     \u001b[38;5;28;01mfor\u001b[39;00m constraint \u001b[38;5;129;01min\u001b[39;00m \u001b[38;5;28mself\u001b[39m\u001b[38;5;241m.\u001b[39mconstraints:\n",
      "File \u001b[0;32m~/opt/anaconda3/envs/research/lib/python3.9/site-packages/ase/calculators/abc.py:26\u001b[0m, in \u001b[0;36mGetPropertiesMixin.get_potential_energy\u001b[0;34m(self, atoms, force_consistent)\u001b[0m\n\u001b[1;32m     24\u001b[0m \u001b[38;5;28;01melse\u001b[39;00m:\n\u001b[1;32m     25\u001b[0m     name \u001b[38;5;241m=\u001b[39m \u001b[38;5;124m'\u001b[39m\u001b[38;5;124menergy\u001b[39m\u001b[38;5;124m'\u001b[39m\n\u001b[0;32m---> 26\u001b[0m \u001b[38;5;28;01mreturn\u001b[39;00m \u001b[38;5;28;43mself\u001b[39;49m\u001b[38;5;241;43m.\u001b[39;49m\u001b[43mget_property\u001b[49m\u001b[43m(\u001b[49m\u001b[43mname\u001b[49m\u001b[43m,\u001b[49m\u001b[43m \u001b[49m\u001b[43matoms\u001b[49m\u001b[43m)\u001b[49m\n",
      "File \u001b[0;32m~/opt/anaconda3/envs/research/lib/python3.9/site-packages/ase/calculators/calculator.py:515\u001b[0m, in \u001b[0;36mBaseCalculator.get_property\u001b[0;34m(self, name, atoms, allow_calculation)\u001b[0m\n\u001b[1;32m    512\u001b[0m     \u001b[38;5;28;01mif\u001b[39;00m \u001b[38;5;28mself\u001b[39m\u001b[38;5;241m.\u001b[39muse_cache:\n\u001b[1;32m    513\u001b[0m         \u001b[38;5;28mself\u001b[39m\u001b[38;5;241m.\u001b[39matoms \u001b[38;5;241m=\u001b[39m atoms\u001b[38;5;241m.\u001b[39mcopy()\n\u001b[0;32m--> 515\u001b[0m     \u001b[38;5;28;43mself\u001b[39;49m\u001b[38;5;241;43m.\u001b[39;49m\u001b[43mcalculate\u001b[49m\u001b[43m(\u001b[49m\u001b[43matoms\u001b[49m\u001b[43m,\u001b[49m\u001b[43m \u001b[49m\u001b[43m[\u001b[49m\u001b[43mname\u001b[49m\u001b[43m]\u001b[49m\u001b[43m,\u001b[49m\u001b[43m \u001b[49m\u001b[43msystem_changes\u001b[49m\u001b[43m)\u001b[49m\n\u001b[1;32m    517\u001b[0m \u001b[38;5;28;01mif\u001b[39;00m name \u001b[38;5;129;01mnot\u001b[39;00m \u001b[38;5;129;01min\u001b[39;00m \u001b[38;5;28mself\u001b[39m\u001b[38;5;241m.\u001b[39mresults:\n\u001b[1;32m    518\u001b[0m     \u001b[38;5;66;03m# For some reason the calculator was not able to do what we want,\u001b[39;00m\n\u001b[1;32m    519\u001b[0m     \u001b[38;5;66;03m# and that is OK.\u001b[39;00m\n\u001b[1;32m    520\u001b[0m     \u001b[38;5;28;01mraise\u001b[39;00m PropertyNotImplementedError(\n\u001b[1;32m    521\u001b[0m         \u001b[38;5;124m'\u001b[39m\u001b[38;5;132;01m{}\u001b[39;00m\u001b[38;5;124m not present in this \u001b[39m\u001b[38;5;124m'\u001b[39m \u001b[38;5;124m'\u001b[39m\u001b[38;5;124mcalculation\u001b[39m\u001b[38;5;124m'\u001b[39m\u001b[38;5;241m.\u001b[39mformat(name)\n\u001b[1;32m    522\u001b[0m     )\n",
      "File \u001b[0;32m~/opt/anaconda3/envs/research/lib/python3.9/site-packages/ase/calculators/vasp/vasp.py:333\u001b[0m, in \u001b[0;36mVasp.calculate\u001b[0;34m(self, atoms, properties, system_changes)\u001b[0m\n\u001b[1;32m    329\u001b[0m check_atoms(\u001b[38;5;28mself\u001b[39m\u001b[38;5;241m.\u001b[39matoms)\n\u001b[1;32m    331\u001b[0m \u001b[38;5;28mself\u001b[39m\u001b[38;5;241m.\u001b[39mclear_results()\n\u001b[0;32m--> 333\u001b[0m command \u001b[38;5;241m=\u001b[39m \u001b[38;5;28;43mself\u001b[39;49m\u001b[38;5;241;43m.\u001b[39;49m\u001b[43mmake_command\u001b[49m\u001b[43m(\u001b[49m\u001b[38;5;28;43mself\u001b[39;49m\u001b[38;5;241;43m.\u001b[39;49m\u001b[43mcommand\u001b[49m\u001b[43m)\u001b[49m\n\u001b[1;32m    334\u001b[0m \u001b[38;5;28mself\u001b[39m\u001b[38;5;241m.\u001b[39mwrite_input(\u001b[38;5;28mself\u001b[39m\u001b[38;5;241m.\u001b[39matoms, properties, system_changes)\n\u001b[1;32m    336\u001b[0m \u001b[38;5;28;01mwith\u001b[39;00m \u001b[38;5;28mself\u001b[39m\u001b[38;5;241m.\u001b[39m_txt_outstream() \u001b[38;5;28;01mas\u001b[39;00m out:\n",
      "File \u001b[0;32m~/opt/anaconda3/envs/research/lib/python3.9/site-packages/ase/calculators/vasp/vasp.py:210\u001b[0m, in \u001b[0;36mVasp.make_command\u001b[0;34m(self, command)\u001b[0m\n\u001b[1;32m    205\u001b[0m     \u001b[38;5;28;01melse\u001b[39;00m:\n\u001b[1;32m    206\u001b[0m         msg \u001b[38;5;241m=\u001b[39m (\u001b[38;5;124m'\u001b[39m\u001b[38;5;124mPlease set either command in calculator\u001b[39m\u001b[38;5;124m'\u001b[39m\n\u001b[1;32m    207\u001b[0m                \u001b[38;5;124m'\u001b[39m\u001b[38;5;124m or one of the following environment \u001b[39m\u001b[38;5;124m'\u001b[39m\n\u001b[1;32m    208\u001b[0m                \u001b[38;5;124m'\u001b[39m\u001b[38;5;124mvariables (prioritized as follows): \u001b[39m\u001b[38;5;132;01m{}\u001b[39;00m\u001b[38;5;124m'\u001b[39m)\u001b[38;5;241m.\u001b[39mformat(\n\u001b[1;32m    209\u001b[0m                    \u001b[38;5;124m'\u001b[39m\u001b[38;5;124m, \u001b[39m\u001b[38;5;124m'\u001b[39m\u001b[38;5;241m.\u001b[39mjoin(\u001b[38;5;28mself\u001b[39m\u001b[38;5;241m.\u001b[39menv_commands))\n\u001b[0;32m--> 210\u001b[0m         \u001b[38;5;28;01mraise\u001b[39;00m calculator\u001b[38;5;241m.\u001b[39mCalculatorSetupError(msg)\n\u001b[1;32m    211\u001b[0m \u001b[38;5;28;01mreturn\u001b[39;00m cmd\n",
      "\u001b[0;31mCalculatorSetupError\u001b[0m: Please set either command in calculator or one of the following environment variables (prioritized as follows): ASE_VASP_COMMAND, VASP_COMMAND, VASP_SCRIPT"
     ]
    }
   ],
   "source": [
    "calc_single = Vasp(system = \"Generic System Name\",\n",
    "               istart = 0,iniwav = 1,icharg = 0,gamma=True,reciprocal=True,\n",
    "               prec=\"Accurate\", lreal = False, algo = \"Normal\", encut = 300.00,\n",
    "               nelm = 200, ediff = 1e-6, gga = \"PS\",kpts=(4,4,4),\n",
    "               ediffg = 1e-3, nsw = 0, ibrion = 1, isif = 3, isym = 2,\n",
    "               ismear = -5)\n",
    "\n",
    "si.set_calculator(calc_single)\n",
    "energy = si.get_potential_energy()"
   ]
  },
  {
   "cell_type": "markdown",
   "metadata": {},
   "source": [
    "## Make hybrid KPOINTS file\n",
    "Now for the fiddling around to convert the irreducible $k$-points from that calculation to the KPOINTS file for the band structure"
   ]
  },
  {
   "cell_type": "code",
   "execution_count": 6,
   "metadata": {
    "collapsed": false
   },
   "outputs": [
    {
     "ename": "RuntimeError",
     "evalue": "vasprun.xml data has not yet been loaded. Run read_results() first.",
     "output_type": "error",
     "traceback": [
      "\u001b[0;31m---------------------------------------------------------------------------\u001b[0m",
      "\u001b[0;31mRuntimeError\u001b[0m                              Traceback (most recent call last)",
      "Cell \u001b[0;32mIn[6], line 1\u001b[0m\n\u001b[0;32m----> 1\u001b[0m ibzkpts \u001b[38;5;241m=\u001b[39m \u001b[43mcalc_single\u001b[49m\u001b[38;5;241;43m.\u001b[39;49m\u001b[43mget_ibz_k_points\u001b[49m\u001b[43m(\u001b[49m\u001b[43m)\u001b[49m\n\u001b[1;32m      2\u001b[0m weights \u001b[38;5;241m=\u001b[39m calc_single\u001b[38;5;241m.\u001b[39mread_k_point_weights()\n\u001b[1;32m      3\u001b[0m kpts \u001b[38;5;241m=\u001b[39m np\u001b[38;5;241m.\u001b[39mconcatenate((ibzkpts,kpts))\n",
      "File \u001b[0;32m~/opt/anaconda3/envs/research/lib/python3.9/site-packages/ase/calculators/vasp/vasp.py:741\u001b[0m, in \u001b[0;36mVasp.get_ibz_k_points\u001b[0;34m(self)\u001b[0m\n\u001b[1;32m    740\u001b[0m \u001b[38;5;28;01mdef\u001b[39;00m\u001b[38;5;250m \u001b[39m\u001b[38;5;21mget_ibz_k_points\u001b[39m(\u001b[38;5;28mself\u001b[39m):\n\u001b[0;32m--> 741\u001b[0m     calc \u001b[38;5;241m=\u001b[39m \u001b[38;5;28;43mself\u001b[39;49m\u001b[38;5;241;43m.\u001b[39;49m\u001b[43m_xml_calc\u001b[49m\n\u001b[1;32m    742\u001b[0m     \u001b[38;5;28;01mreturn\u001b[39;00m calc\u001b[38;5;241m.\u001b[39mget_ibz_k_points()\n",
      "File \u001b[0;32m~/opt/anaconda3/envs/research/lib/python3.9/site-packages/ase/calculators/vasp/vasp.py:732\u001b[0m, in \u001b[0;36mVasp._xml_calc\u001b[0;34m(self)\u001b[0m\n\u001b[1;32m    729\u001b[0m \u001b[38;5;129m@property\u001b[39m\n\u001b[1;32m    730\u001b[0m \u001b[38;5;28;01mdef\u001b[39;00m\u001b[38;5;250m \u001b[39m\u001b[38;5;21m_xml_calc\u001b[39m(\u001b[38;5;28mself\u001b[39m) \u001b[38;5;241m-\u001b[39m\u001b[38;5;241m>\u001b[39m SinglePointDFTCalculator:\n\u001b[1;32m    731\u001b[0m     \u001b[38;5;28;01mif\u001b[39;00m \u001b[38;5;28mself\u001b[39m\u001b[38;5;241m.\u001b[39m__xml_calc \u001b[38;5;129;01mis\u001b[39;00m \u001b[38;5;28;01mNone\u001b[39;00m:\n\u001b[0;32m--> 732\u001b[0m         \u001b[38;5;28;01mraise\u001b[39;00m \u001b[38;5;167;01mRuntimeError\u001b[39;00m(\u001b[38;5;124m'\u001b[39m\u001b[38;5;124mvasprun.xml data has not yet been loaded. \u001b[39m\u001b[38;5;124m'\u001b[39m\n\u001b[1;32m    733\u001b[0m                            \u001b[38;5;124m'\u001b[39m\u001b[38;5;124mRun read_results() first.\u001b[39m\u001b[38;5;124m'\u001b[39m)\n\u001b[1;32m    734\u001b[0m     \u001b[38;5;28;01mreturn\u001b[39;00m \u001b[38;5;28mself\u001b[39m\u001b[38;5;241m.\u001b[39m__xml_calc\n",
      "\u001b[0;31mRuntimeError\u001b[0m: vasprun.xml data has not yet been loaded. Run read_results() first."
     ]
    }
   ],
   "source": [
    "ibzkpts = calc_single.get_ibz_k_points()\n",
    "weights = calc_single.read_k_point_weights()\n",
    "kpts = np.concatenate((ibzkpts,kpts))\n",
    "dummy = np.zeros(shape=(len(kpts),4))\n",
    "for i in range(len(ibzkpts)):\n",
    "    dummy[i,3] = weights[i]\n",
    "dummy[:,:-1] = kpts\n",
    "kpts = dummy"
   ]
  },
  {
   "cell_type": "markdown",
   "metadata": {},
   "source": [
    "## The band structure calculation\n",
    "\n",
    "**NOTE** on this occasion we run the band structure at GGA level. This is in the interests of brevity of the calculation and can easily be changed to hybrid-DFT in the calculator definition."
   ]
  },
  {
   "cell_type": "code",
   "execution_count": 7,
   "metadata": {
    "collapsed": false
   },
   "outputs": [
    {
     "ename": "SyntaxError",
     "evalue": "Missing parentheses in call to 'print'. Did you mean print(\"Band Calc\")? (1641336136.py, line 10)",
     "output_type": "error",
     "traceback": [
      "\u001b[0;36m  Cell \u001b[0;32mIn[7], line 10\u001b[0;36m\u001b[0m\n\u001b[0;31m    print \"Band Calc\"\u001b[0m\n\u001b[0m          ^\u001b[0m\n\u001b[0;31mSyntaxError\u001b[0m\u001b[0;31m:\u001b[0m Missing parentheses in call to 'print'. Did you mean print(\"Band Calc\")?\n"
     ]
    }
   ],
   "source": [
    "calc_band = Vasp(system = \"Band structure\",\n",
    "               encut = 500.00,\n",
    "               gga = \"PS\",\n",
    "               kpts=kpts,\n",
    "               nsw = 0,\n",
    "               ismear = 0,\n",
    "               sigma = 0.01,\n",
    "               reciprocal = True)\n",
    "si.set_calculator(calc_band)\n",
    "print \"Band Calc\"\n",
    "bands = si.get_potential_energy()"
   ]
  },
  {
   "cell_type": "markdown",
   "metadata": {},
   "source": [
    "## Analysing and plotting the output\n",
    "\n",
    "In this case we will use matplotlib to plot our structures. We will also use som of the nice built-in features of ASE to get information such as the band gap, the direct band gap and the transitions involved in each."
   ]
  },
  {
   "cell_type": "code",
   "execution_count": 8,
   "metadata": {
    "collapsed": false
   },
   "outputs": [
    {
     "ename": "NameError",
     "evalue": "name 'kpts' is not defined",
     "output_type": "error",
     "traceback": [
      "\u001b[0;31m---------------------------------------------------------------------------\u001b[0m",
      "\u001b[0;31mNameError\u001b[0m                                 Traceback (most recent call last)",
      "Cell \u001b[0;32mIn[8], line 2\u001b[0m\n\u001b[1;32m      1\u001b[0m \u001b[38;5;66;03m# Get the band energies across the Brillouin zone\u001b[39;00m\n\u001b[0;32m----> 2\u001b[0m e_kn \u001b[38;5;241m=\u001b[39m np\u001b[38;5;241m.\u001b[39marray([calc_band\u001b[38;5;241m.\u001b[39mget_eigenvalues(k) \u001b[38;5;28;01mfor\u001b[39;00m k \u001b[38;5;129;01min\u001b[39;00m \u001b[38;5;28mrange\u001b[39m(\u001b[38;5;28mlen\u001b[39m(\u001b[43mkpts\u001b[49m))])\n\u001b[1;32m      4\u001b[0m \u001b[38;5;66;03m# Get Fermi energy\u001b[39;00m\n\u001b[1;32m      5\u001b[0m ef \u001b[38;5;241m=\u001b[39m calc_band\u001b[38;5;241m.\u001b[39mget_fermi_level()\n",
      "\u001b[0;31mNameError\u001b[0m: name 'kpts' is not defined"
     ]
    }
   ],
   "source": [
    "# Get the band energies across the Brillouin zone\n",
    "e_kn = np.array([calc_band.get_eigenvalues(k) for k in range(len(kpts))])\n",
    "\n",
    "# Get Fermi energy\n",
    "ef = calc_band.get_fermi_level()\n",
    "nbands = calc_band.get_number_of_bands()\n",
    "\n",
    "# Plotting time\n",
    "e_kn -= ef\n",
    "emin = e_kn.min() - 1.0\n",
    "emax = e_kn[:, nbands-1].max() + 1.0\n",
    "\n",
    "# Plot the energy Vs k-point for each band\n",
    "nelect = calc_band.get_number_of_electrons()\n",
    "for n in range(nbands):\n",
    "\n",
    "# Choose colour based on valence or conduction\n",
    "    for n in range(nbands):\n",
    "        if n < nelect/2:\n",
    "            plt.plot(x, e_kn[len(ibzkpts):len(kpts), n],color='#800000')\n",
    "        else:\n",
    "            plt.plot(x, e_kn[len(ibzkpts):len(kpts), n],color='#228B22')\n",
    "\n",
    "# Shade in valence and conduction bands\n",
    "plt.fill_between(x,emin,e_kn[len(ibzkpts):len(kpts), nelect/2 - 1],color='#800000',alpha=0.6)\n",
    "plt.fill_between(x,e_kn[len(ibzkpts):len(kpts), nelect/2],emax,color='#228B22',alpha=0.6)\n",
    "\n",
    "# Set thick lines at each k-point\n",
    "for p in X:\n",
    "    plt.plot([p, p], [emin, emax], 'k-')\n",
    "\n",
    "# Set the axis tick marks and labels\n",
    "plt.plot([0, X[-1]], [0, 0], 'k-')\n",
    "plt.xticks(X, ['$%s$' % n for n in path])\n",
    "plt.axis(xmin=0, xmax=X[-1], ymin=emin, ymax=emax)\n",
    "plt.xlabel('k-vector')\n",
    "\n",
    "\n",
    "# Save the plot\n",
    "plt.savefig('bands.pdf')\n"
   ]
  }
 ],
 "metadata": {
  "kernelspec": {
   "display_name": "research",
   "language": "python",
   "name": "python3"
  },
  "language_info": {
   "codemirror_mode": {
    "name": "ipython",
    "version": 3
   },
   "file_extension": ".py",
   "mimetype": "text/x-python",
   "name": "python",
   "nbconvert_exporter": "python",
   "pygments_lexer": "ipython3",
   "version": "3.9.23"
  }
 },
 "nbformat": 4,
 "nbformat_minor": 0
}
