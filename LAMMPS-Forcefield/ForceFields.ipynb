{
 "cells": [
  {
   "cell_type": "markdown",
   "metadata": {},
   "source": [
    "## Forcefield setup\n",
    "\n",
    "Setting up a forcefield can be a real pain. Defining and printing all the bonds, angles, dihedrals etc takes a lot of messing around. Luckily there is a module for doing this for the OPLS forcefield in ASE. The parameters defined should be transferable to other forcefields thereafter."
   ]
  },
  {
   "cell_type": "code",
   "execution_count": 1,
   "metadata": {
    "collapsed": false
   },
   "outputs": [],
   "source": [
    "from ase.io.opls import OPLSff, OPLSStructure\n",
    "s = OPLSStructure('Spiro_ext.xyz')\n",
    "with open('ff.par', 'r') as f:\n",
    "    opls = OPLSff(f)\n",
    "opls.write_lammps(s, prefix='lmp')"
   ]
  },
  {
   "cell_type": "markdown",
   "metadata": {},
   "source": [
    "The tricky part of this is to have an extended xyz file in the correct format.[This webpage](http://libatoms.github.io/QUIP/io.html#extendedxyz) gives an overview of the extended xyz format. "
   ]
  }
 ],
 "metadata": {
  "kernelspec": {
   "display_name": "research",
   "language": "python",
   "name": "python3"
  },
  "language_info": {
   "codemirror_mode": {
    "name": "ipython",
    "version": 3
   },
   "file_extension": ".py",
   "mimetype": "text/x-python",
   "name": "python",
   "nbconvert_exporter": "python",
   "pygments_lexer": "ipython3",
   "version": "3.9.23"
  }
 },
 "nbformat": 4,
 "nbformat_minor": 0
}
